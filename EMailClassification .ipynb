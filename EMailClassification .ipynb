{
  "nbformat": 4,
  "nbformat_minor": 0,
  "metadata": {
    "colab": {
      "name": "MailClassification.ipynb",
      "provenance": []
    },
    "kernelspec": {
      "name": "python3",
      "display_name": "Python 3"
    },
    "language_info": {
      "name": "python"
    }
  },
  "cells": [
    {
      "cell_type": "markdown",
      "source": [
        "**An LSTM Based Multi-Class Email Classification Using TensorFlow,NLTK**"
      ],
      "metadata": {
        "id": "sQoHI6ScQX8k"
      }
    },
    {
      "cell_type": "markdown",
      "source": [
        "You can find the Dataset at `https://catalog.data.gov/dataset/consumer-complaint-database`"
      ],
      "metadata": {
        "id": "HhFH3c-EQvS2"
      }
    },
    {
      "cell_type": "markdown",
      "source": [
        "**Importing the Dataset**"
      ],
      "metadata": {
        "id": "V-W0z6gpQ1hP"
      }
    },
    {
      "cell_type": "markdown",
      "source": [
        "As the dataset is very huge it seems appropriate to add it in the drive and then unmount in the colab"
      ],
      "metadata": {
        "id": "_A2fkCx1Q8lV"
      }
    },
    {
      "cell_type": "code",
      "source": [
        "from google.colab import drive\n",
        "drive.mount('/content/drive')"
      ],
      "metadata": {
        "colab": {
          "base_uri": "https://localhost:8080/"
        },
        "id": "A6cBpe3DvMRX",
        "outputId": "21f83ea4-4016-4834-8787-c9847aab0650"
      },
      "execution_count": null,
      "outputs": [
        {
          "output_type": "stream",
          "name": "stdout",
          "text": [
            "Mounted at /content/drive\n"
          ]
        }
      ]
    },
    {
      "cell_type": "markdown",
      "source": [
        "**Importing the Required Libraries**"
      ],
      "metadata": {
        "id": "h1pmSHykRGRH"
      }
    },
    {
      "cell_type": "code",
      "source": [
        "import tensorflow as tf\n",
        "import pandas as pd\n",
        "import numpy as np\n",
        "from sklearn.preprocessing import StandardScaler\n",
        "import nltk\n",
        "from nltk.corpus import stopwords"
      ],
      "metadata": {
        "id": "h9_28gMXvmVU"
      },
      "execution_count": null,
      "outputs": []
    },
    {
      "cell_type": "code",
      "source": [
        "data_set=pd.read_csv('/content/drive/MyDrive/complaints.csv')"
      ],
      "metadata": {
        "colab": {
          "base_uri": "https://localhost:8080/"
        },
        "id": "hF6djf0DvmY8",
        "outputId": "8bf03d36-6d36-4112-b3a6-32b8fb50883d"
      },
      "execution_count": null,
      "outputs": [
        {
          "output_type": "stream",
          "name": "stderr",
          "text": [
            "/usr/local/lib/python3.7/dist-packages/IPython/core/interactiveshell.py:2882: DtypeWarning: Columns (9,16) have mixed types.Specify dtype option on import or set low_memory=False.\n",
            "  exec(code_obj, self.user_global_ns, self.user_ns)\n"
          ]
        }
      ]
    },
    {
      "cell_type": "code",
      "source": [
        "data_set.head()"
      ],
      "metadata": {
        "colab": {
          "base_uri": "https://localhost:8080/",
          "height": 756
        },
        "id": "HFFUNApnvmbh",
        "outputId": "6b804af9-bdec-48fd-d2b0-d3177fd993a9"
      },
      "execution_count": null,
      "outputs": [
        {
          "output_type": "execute_result",
          "data": {
            "text/plain": [
              "  Date received                                            Product  \\\n",
              "0    2022-06-01  Credit reporting, credit repair services, or o...   \n",
              "1    2022-06-01  Credit reporting, credit repair services, or o...   \n",
              "2    2022-06-08  Credit reporting, credit repair services, or o...   \n",
              "3    2022-06-07  Credit reporting, credit repair services, or o...   \n",
              "4    2022-06-08  Credit reporting, credit repair services, or o...   \n",
              "\n",
              "        Sub-product                                 Issue  \\\n",
              "0  Credit reporting  Incorrect information on your report   \n",
              "1  Credit reporting           Improper use of your report   \n",
              "2  Credit reporting  Incorrect information on your report   \n",
              "3  Credit reporting           Improper use of your report   \n",
              "4  Credit reporting  Incorrect information on your report   \n",
              "\n",
              "                                           Sub-issue  \\\n",
              "0               Public record information inaccurate   \n",
              "1  Credit inquiries on your report that you don't...   \n",
              "2                Information belongs to someone else   \n",
              "3  Credit inquiries on your report that you don't...   \n",
              "4                Information belongs to someone else   \n",
              "\n",
              "  Consumer complaint narrative  \\\n",
              "0                          NaN   \n",
              "1                          NaN   \n",
              "2                          NaN   \n",
              "3                          NaN   \n",
              "4                          NaN   \n",
              "\n",
              "                             Company public response  \\\n",
              "0                                                NaN   \n",
              "1  Company has responded to the consumer and the ...   \n",
              "2                                                NaN   \n",
              "3                                                NaN   \n",
              "4                                                NaN   \n",
              "\n",
              "                                  Company State ZIP code           Tags  \\\n",
              "0     Experian Information Solutions Inc.    NY  13027.0  Servicemember   \n",
              "1     Experian Information Solutions Inc.    FL  33990.0            NaN   \n",
              "2  TRANSUNION INTERMEDIATE HOLDINGS, INC.    FL  33403.0            NaN   \n",
              "3                    Rocket Mortgage, LLC    GA  31008.0            NaN   \n",
              "4                           EQUIFAX, INC.    AL  35473.0            NaN   \n",
              "\n",
              "  Consumer consent provided? Submitted via Date sent to company  \\\n",
              "0                        NaN           Web           2022-06-01   \n",
              "1       Consent not provided           Web           2022-06-01   \n",
              "2                        NaN           Web           2022-06-08   \n",
              "3                        NaN           Web           2022-06-08   \n",
              "4                        NaN           Web           2022-06-08   \n",
              "\n",
              "      Company response to consumer Timely response? Consumer disputed?  \\\n",
              "0                      In progress              Yes                NaN   \n",
              "1  Closed with non-monetary relief              Yes                NaN   \n",
              "2                      In progress              Yes                NaN   \n",
              "3          Closed with explanation              Yes                NaN   \n",
              "4                      In progress              Yes                NaN   \n",
              "\n",
              "   Complaint ID  \n",
              "0       5623393  \n",
              "1       5621702  \n",
              "2       5645514  \n",
              "3       5643448  \n",
              "4       5644133  "
            ],
            "text/html": [
              "\n",
              "  <div id=\"df-31d9adc6-48fc-4b4c-9455-a745e0986773\">\n",
              "    <div class=\"colab-df-container\">\n",
              "      <div>\n",
              "<style scoped>\n",
              "    .dataframe tbody tr th:only-of-type {\n",
              "        vertical-align: middle;\n",
              "    }\n",
              "\n",
              "    .dataframe tbody tr th {\n",
              "        vertical-align: top;\n",
              "    }\n",
              "\n",
              "    .dataframe thead th {\n",
              "        text-align: right;\n",
              "    }\n",
              "</style>\n",
              "<table border=\"1\" class=\"dataframe\">\n",
              "  <thead>\n",
              "    <tr style=\"text-align: right;\">\n",
              "      <th></th>\n",
              "      <th>Date received</th>\n",
              "      <th>Product</th>\n",
              "      <th>Sub-product</th>\n",
              "      <th>Issue</th>\n",
              "      <th>Sub-issue</th>\n",
              "      <th>Consumer complaint narrative</th>\n",
              "      <th>Company public response</th>\n",
              "      <th>Company</th>\n",
              "      <th>State</th>\n",
              "      <th>ZIP code</th>\n",
              "      <th>Tags</th>\n",
              "      <th>Consumer consent provided?</th>\n",
              "      <th>Submitted via</th>\n",
              "      <th>Date sent to company</th>\n",
              "      <th>Company response to consumer</th>\n",
              "      <th>Timely response?</th>\n",
              "      <th>Consumer disputed?</th>\n",
              "      <th>Complaint ID</th>\n",
              "    </tr>\n",
              "  </thead>\n",
              "  <tbody>\n",
              "    <tr>\n",
              "      <th>0</th>\n",
              "      <td>2022-06-01</td>\n",
              "      <td>Credit reporting, credit repair services, or o...</td>\n",
              "      <td>Credit reporting</td>\n",
              "      <td>Incorrect information on your report</td>\n",
              "      <td>Public record information inaccurate</td>\n",
              "      <td>NaN</td>\n",
              "      <td>NaN</td>\n",
              "      <td>Experian Information Solutions Inc.</td>\n",
              "      <td>NY</td>\n",
              "      <td>13027.0</td>\n",
              "      <td>Servicemember</td>\n",
              "      <td>NaN</td>\n",
              "      <td>Web</td>\n",
              "      <td>2022-06-01</td>\n",
              "      <td>In progress</td>\n",
              "      <td>Yes</td>\n",
              "      <td>NaN</td>\n",
              "      <td>5623393</td>\n",
              "    </tr>\n",
              "    <tr>\n",
              "      <th>1</th>\n",
              "      <td>2022-06-01</td>\n",
              "      <td>Credit reporting, credit repair services, or o...</td>\n",
              "      <td>Credit reporting</td>\n",
              "      <td>Improper use of your report</td>\n",
              "      <td>Credit inquiries on your report that you don't...</td>\n",
              "      <td>NaN</td>\n",
              "      <td>Company has responded to the consumer and the ...</td>\n",
              "      <td>Experian Information Solutions Inc.</td>\n",
              "      <td>FL</td>\n",
              "      <td>33990.0</td>\n",
              "      <td>NaN</td>\n",
              "      <td>Consent not provided</td>\n",
              "      <td>Web</td>\n",
              "      <td>2022-06-01</td>\n",
              "      <td>Closed with non-monetary relief</td>\n",
              "      <td>Yes</td>\n",
              "      <td>NaN</td>\n",
              "      <td>5621702</td>\n",
              "    </tr>\n",
              "    <tr>\n",
              "      <th>2</th>\n",
              "      <td>2022-06-08</td>\n",
              "      <td>Credit reporting, credit repair services, or o...</td>\n",
              "      <td>Credit reporting</td>\n",
              "      <td>Incorrect information on your report</td>\n",
              "      <td>Information belongs to someone else</td>\n",
              "      <td>NaN</td>\n",
              "      <td>NaN</td>\n",
              "      <td>TRANSUNION INTERMEDIATE HOLDINGS, INC.</td>\n",
              "      <td>FL</td>\n",
              "      <td>33403.0</td>\n",
              "      <td>NaN</td>\n",
              "      <td>NaN</td>\n",
              "      <td>Web</td>\n",
              "      <td>2022-06-08</td>\n",
              "      <td>In progress</td>\n",
              "      <td>Yes</td>\n",
              "      <td>NaN</td>\n",
              "      <td>5645514</td>\n",
              "    </tr>\n",
              "    <tr>\n",
              "      <th>3</th>\n",
              "      <td>2022-06-07</td>\n",
              "      <td>Credit reporting, credit repair services, or o...</td>\n",
              "      <td>Credit reporting</td>\n",
              "      <td>Improper use of your report</td>\n",
              "      <td>Credit inquiries on your report that you don't...</td>\n",
              "      <td>NaN</td>\n",
              "      <td>NaN</td>\n",
              "      <td>Rocket Mortgage, LLC</td>\n",
              "      <td>GA</td>\n",
              "      <td>31008.0</td>\n",
              "      <td>NaN</td>\n",
              "      <td>NaN</td>\n",
              "      <td>Web</td>\n",
              "      <td>2022-06-08</td>\n",
              "      <td>Closed with explanation</td>\n",
              "      <td>Yes</td>\n",
              "      <td>NaN</td>\n",
              "      <td>5643448</td>\n",
              "    </tr>\n",
              "    <tr>\n",
              "      <th>4</th>\n",
              "      <td>2022-06-08</td>\n",
              "      <td>Credit reporting, credit repair services, or o...</td>\n",
              "      <td>Credit reporting</td>\n",
              "      <td>Incorrect information on your report</td>\n",
              "      <td>Information belongs to someone else</td>\n",
              "      <td>NaN</td>\n",
              "      <td>NaN</td>\n",
              "      <td>EQUIFAX, INC.</td>\n",
              "      <td>AL</td>\n",
              "      <td>35473.0</td>\n",
              "      <td>NaN</td>\n",
              "      <td>NaN</td>\n",
              "      <td>Web</td>\n",
              "      <td>2022-06-08</td>\n",
              "      <td>In progress</td>\n",
              "      <td>Yes</td>\n",
              "      <td>NaN</td>\n",
              "      <td>5644133</td>\n",
              "    </tr>\n",
              "  </tbody>\n",
              "</table>\n",
              "</div>\n",
              "      <button class=\"colab-df-convert\" onclick=\"convertToInteractive('df-31d9adc6-48fc-4b4c-9455-a745e0986773')\"\n",
              "              title=\"Convert this dataframe to an interactive table.\"\n",
              "              style=\"display:none;\">\n",
              "        \n",
              "  <svg xmlns=\"http://www.w3.org/2000/svg\" height=\"24px\"viewBox=\"0 0 24 24\"\n",
              "       width=\"24px\">\n",
              "    <path d=\"M0 0h24v24H0V0z\" fill=\"none\"/>\n",
              "    <path d=\"M18.56 5.44l.94 2.06.94-2.06 2.06-.94-2.06-.94-.94-2.06-.94 2.06-2.06.94zm-11 1L8.5 8.5l.94-2.06 2.06-.94-2.06-.94L8.5 2.5l-.94 2.06-2.06.94zm10 10l.94 2.06.94-2.06 2.06-.94-2.06-.94-.94-2.06-.94 2.06-2.06.94z\"/><path d=\"M17.41 7.96l-1.37-1.37c-.4-.4-.92-.59-1.43-.59-.52 0-1.04.2-1.43.59L10.3 9.45l-7.72 7.72c-.78.78-.78 2.05 0 2.83L4 21.41c.39.39.9.59 1.41.59.51 0 1.02-.2 1.41-.59l7.78-7.78 2.81-2.81c.8-.78.8-2.07 0-2.86zM5.41 20L4 18.59l7.72-7.72 1.47 1.35L5.41 20z\"/>\n",
              "  </svg>\n",
              "      </button>\n",
              "      \n",
              "  <style>\n",
              "    .colab-df-container {\n",
              "      display:flex;\n",
              "      flex-wrap:wrap;\n",
              "      gap: 12px;\n",
              "    }\n",
              "\n",
              "    .colab-df-convert {\n",
              "      background-color: #E8F0FE;\n",
              "      border: none;\n",
              "      border-radius: 50%;\n",
              "      cursor: pointer;\n",
              "      display: none;\n",
              "      fill: #1967D2;\n",
              "      height: 32px;\n",
              "      padding: 0 0 0 0;\n",
              "      width: 32px;\n",
              "    }\n",
              "\n",
              "    .colab-df-convert:hover {\n",
              "      background-color: #E2EBFA;\n",
              "      box-shadow: 0px 1px 2px rgba(60, 64, 67, 0.3), 0px 1px 3px 1px rgba(60, 64, 67, 0.15);\n",
              "      fill: #174EA6;\n",
              "    }\n",
              "\n",
              "    [theme=dark] .colab-df-convert {\n",
              "      background-color: #3B4455;\n",
              "      fill: #D2E3FC;\n",
              "    }\n",
              "\n",
              "    [theme=dark] .colab-df-convert:hover {\n",
              "      background-color: #434B5C;\n",
              "      box-shadow: 0px 1px 3px 1px rgba(0, 0, 0, 0.15);\n",
              "      filter: drop-shadow(0px 1px 2px rgba(0, 0, 0, 0.3));\n",
              "      fill: #FFFFFF;\n",
              "    }\n",
              "  </style>\n",
              "\n",
              "      <script>\n",
              "        const buttonEl =\n",
              "          document.querySelector('#df-31d9adc6-48fc-4b4c-9455-a745e0986773 button.colab-df-convert');\n",
              "        buttonEl.style.display =\n",
              "          google.colab.kernel.accessAllowed ? 'block' : 'none';\n",
              "\n",
              "        async function convertToInteractive(key) {\n",
              "          const element = document.querySelector('#df-31d9adc6-48fc-4b4c-9455-a745e0986773');\n",
              "          const dataTable =\n",
              "            await google.colab.kernel.invokeFunction('convertToInteractive',\n",
              "                                                     [key], {});\n",
              "          if (!dataTable) return;\n",
              "\n",
              "          const docLinkHtml = 'Like what you see? Visit the ' +\n",
              "            '<a target=\"_blank\" href=https://colab.research.google.com/notebooks/data_table.ipynb>data table notebook</a>'\n",
              "            + ' to learn more about interactive tables.';\n",
              "          element.innerHTML = '';\n",
              "          dataTable['output_type'] = 'display_data';\n",
              "          await google.colab.output.renderOutput(dataTable, element);\n",
              "          const docLink = document.createElement('div');\n",
              "          docLink.innerHTML = docLinkHtml;\n",
              "          element.appendChild(docLink);\n",
              "        }\n",
              "      </script>\n",
              "    </div>\n",
              "  </div>\n",
              "  "
            ]
          },
          "metadata": {},
          "execution_count": 32
        }
      ]
    },
    {
      "cell_type": "markdown",
      "source": [
        "We will be using only 2 columns namely **Product** and **Consumer complaint Narrative** for our project, so let's export that from the dataframe."
      ],
      "metadata": {
        "id": "y0Qeu4rfRNKj"
      }
    },
    {
      "cell_type": "code",
      "source": [
        "df1 = data_set[['Product', 'Consumer complaint narrative']].copy()"
      ],
      "metadata": {
        "id": "XBh-OFNHvmeY"
      },
      "execution_count": null,
      "outputs": []
    },
    {
      "cell_type": "markdown",
      "source": [
        "let's further extract data which has the **Consumer complaint Narative** as not null "
      ],
      "metadata": {
        "id": "YeEE1DZrRvQc"
      }
    },
    {
      "cell_type": "code",
      "source": [
        "df1 = df1[pd.notnull(df1['Consumer complaint narrative'])]\n",
        "df1.columns = ['Product', 'Consumer_complaint']"
      ],
      "metadata": {
        "id": "6Si1qodOvmhS"
      },
      "execution_count": null,
      "outputs": []
    },
    {
      "cell_type": "markdown",
      "source": [
        "Let's take a look at the different categories that we are going to classify our data into"
      ],
      "metadata": {
        "id": "tSqdgHVoR8CZ"
      }
    },
    {
      "cell_type": "code",
      "source": [
        "pd.DataFrame(df1.Product.unique()).values"
      ],
      "metadata": {
        "colab": {
          "base_uri": "https://localhost:8080/"
        },
        "id": "nD9dRxkU4ftk",
        "outputId": "eb8fb812-92ff-4086-a4b9-0da8d1e77b09"
      },
      "execution_count": null,
      "outputs": [
        {
          "output_type": "execute_result",
          "data": {
            "text/plain": [
              "array([['Credit reporting, credit repair services, or other personal consumer reports'],\n",
              "       ['Credit card or prepaid card'],\n",
              "       ['Debt collection'],\n",
              "       ['Mortgage'],\n",
              "       ['Vehicle loan or lease'],\n",
              "       ['Checking or savings account'],\n",
              "       ['Payday loan, title loan, or personal loan'],\n",
              "       ['Student loan'],\n",
              "       ['Money transfer, virtual currency, or money service'],\n",
              "       ['Consumer Loan'],\n",
              "       ['Bank account or service'],\n",
              "       ['Payday loan'],\n",
              "       ['Credit card'],\n",
              "       ['Credit reporting'],\n",
              "       ['Other financial service'],\n",
              "       ['Money transfers'],\n",
              "       ['Prepaid card'],\n",
              "       ['Virtual currency']], dtype=object)"
            ]
          },
          "metadata": {},
          "execution_count": 38
        }
      ]
    },
    {
      "cell_type": "markdown",
      "source": [
        "Let's make our lives Easier by changing the category names into simple ones"
      ],
      "metadata": {
        "id": "kPMd72xtShUm"
      }
    },
    {
      "cell_type": "code",
      "source": [
        "df2.replace({'Product': \n",
        "             {'Credit reporting, credit repair services, or other personal consumer reports': \n",
        "              'Credit reporting, repair, or other', \n",
        "              'Credit reporting': 'Credit reporting, repair, or other',\n",
        "             'Credit card': 'Credit card or prepaid card',\n",
        "             'Prepaid card': 'Credit card or prepaid card',\n",
        "             'Payday loan': 'Payday loan, title loan, or personal loan',\n",
        "             'Money transfer': 'Money transfer, virtual currency, or money service',\n",
        "             'Virtual currency': 'Money transfer, virtual currency, or money service'}}, \n",
        "            inplace= True)\n",
        "pd.DataFrame(df2.Product.unique())"
      ],
      "metadata": {
        "colab": {
          "base_uri": "https://localhost:8080/",
          "height": 457
        },
        "id": "171NGq054f0B",
        "outputId": "0c3ce753-53d5-4006-920c-cfec9f22bccd"
      },
      "execution_count": null,
      "outputs": [
        {
          "output_type": "execute_result",
          "data": {
            "text/plain": [
              "                                                    0\n",
              "0                         Credit card or prepaid card\n",
              "1                                     Debt collection\n",
              "2                  Credit reporting, repair, or other\n",
              "3                               Vehicle loan or lease\n",
              "4                         Checking or savings account\n",
              "5                                            Mortgage\n",
              "6                                        Student loan\n",
              "7                             Bank account or service\n",
              "8   Money transfer, virtual currency, or money ser...\n",
              "9           Payday loan, title loan, or personal loan\n",
              "10                                    Money transfers\n",
              "11                                      Consumer Loan\n",
              "12                            Other financial service"
            ],
            "text/html": [
              "\n",
              "  <div id=\"df-9ea1022c-b3d5-4918-9784-3934f4fc2137\">\n",
              "    <div class=\"colab-df-container\">\n",
              "      <div>\n",
              "<style scoped>\n",
              "    .dataframe tbody tr th:only-of-type {\n",
              "        vertical-align: middle;\n",
              "    }\n",
              "\n",
              "    .dataframe tbody tr th {\n",
              "        vertical-align: top;\n",
              "    }\n",
              "\n",
              "    .dataframe thead th {\n",
              "        text-align: right;\n",
              "    }\n",
              "</style>\n",
              "<table border=\"1\" class=\"dataframe\">\n",
              "  <thead>\n",
              "    <tr style=\"text-align: right;\">\n",
              "      <th></th>\n",
              "      <th>0</th>\n",
              "    </tr>\n",
              "  </thead>\n",
              "  <tbody>\n",
              "    <tr>\n",
              "      <th>0</th>\n",
              "      <td>Credit card or prepaid card</td>\n",
              "    </tr>\n",
              "    <tr>\n",
              "      <th>1</th>\n",
              "      <td>Debt collection</td>\n",
              "    </tr>\n",
              "    <tr>\n",
              "      <th>2</th>\n",
              "      <td>Credit reporting, repair, or other</td>\n",
              "    </tr>\n",
              "    <tr>\n",
              "      <th>3</th>\n",
              "      <td>Vehicle loan or lease</td>\n",
              "    </tr>\n",
              "    <tr>\n",
              "      <th>4</th>\n",
              "      <td>Checking or savings account</td>\n",
              "    </tr>\n",
              "    <tr>\n",
              "      <th>5</th>\n",
              "      <td>Mortgage</td>\n",
              "    </tr>\n",
              "    <tr>\n",
              "      <th>6</th>\n",
              "      <td>Student loan</td>\n",
              "    </tr>\n",
              "    <tr>\n",
              "      <th>7</th>\n",
              "      <td>Bank account or service</td>\n",
              "    </tr>\n",
              "    <tr>\n",
              "      <th>8</th>\n",
              "      <td>Money transfer, virtual currency, or money ser...</td>\n",
              "    </tr>\n",
              "    <tr>\n",
              "      <th>9</th>\n",
              "      <td>Payday loan, title loan, or personal loan</td>\n",
              "    </tr>\n",
              "    <tr>\n",
              "      <th>10</th>\n",
              "      <td>Money transfers</td>\n",
              "    </tr>\n",
              "    <tr>\n",
              "      <th>11</th>\n",
              "      <td>Consumer Loan</td>\n",
              "    </tr>\n",
              "    <tr>\n",
              "      <th>12</th>\n",
              "      <td>Other financial service</td>\n",
              "    </tr>\n",
              "  </tbody>\n",
              "</table>\n",
              "</div>\n",
              "      <button class=\"colab-df-convert\" onclick=\"convertToInteractive('df-9ea1022c-b3d5-4918-9784-3934f4fc2137')\"\n",
              "              title=\"Convert this dataframe to an interactive table.\"\n",
              "              style=\"display:none;\">\n",
              "        \n",
              "  <svg xmlns=\"http://www.w3.org/2000/svg\" height=\"24px\"viewBox=\"0 0 24 24\"\n",
              "       width=\"24px\">\n",
              "    <path d=\"M0 0h24v24H0V0z\" fill=\"none\"/>\n",
              "    <path d=\"M18.56 5.44l.94 2.06.94-2.06 2.06-.94-2.06-.94-.94-2.06-.94 2.06-2.06.94zm-11 1L8.5 8.5l.94-2.06 2.06-.94-2.06-.94L8.5 2.5l-.94 2.06-2.06.94zm10 10l.94 2.06.94-2.06 2.06-.94-2.06-.94-.94-2.06-.94 2.06-2.06.94z\"/><path d=\"M17.41 7.96l-1.37-1.37c-.4-.4-.92-.59-1.43-.59-.52 0-1.04.2-1.43.59L10.3 9.45l-7.72 7.72c-.78.78-.78 2.05 0 2.83L4 21.41c.39.39.9.59 1.41.59.51 0 1.02-.2 1.41-.59l7.78-7.78 2.81-2.81c.8-.78.8-2.07 0-2.86zM5.41 20L4 18.59l7.72-7.72 1.47 1.35L5.41 20z\"/>\n",
              "  </svg>\n",
              "      </button>\n",
              "      \n",
              "  <style>\n",
              "    .colab-df-container {\n",
              "      display:flex;\n",
              "      flex-wrap:wrap;\n",
              "      gap: 12px;\n",
              "    }\n",
              "\n",
              "    .colab-df-convert {\n",
              "      background-color: #E8F0FE;\n",
              "      border: none;\n",
              "      border-radius: 50%;\n",
              "      cursor: pointer;\n",
              "      display: none;\n",
              "      fill: #1967D2;\n",
              "      height: 32px;\n",
              "      padding: 0 0 0 0;\n",
              "      width: 32px;\n",
              "    }\n",
              "\n",
              "    .colab-df-convert:hover {\n",
              "      background-color: #E2EBFA;\n",
              "      box-shadow: 0px 1px 2px rgba(60, 64, 67, 0.3), 0px 1px 3px 1px rgba(60, 64, 67, 0.15);\n",
              "      fill: #174EA6;\n",
              "    }\n",
              "\n",
              "    [theme=dark] .colab-df-convert {\n",
              "      background-color: #3B4455;\n",
              "      fill: #D2E3FC;\n",
              "    }\n",
              "\n",
              "    [theme=dark] .colab-df-convert:hover {\n",
              "      background-color: #434B5C;\n",
              "      box-shadow: 0px 1px 3px 1px rgba(0, 0, 0, 0.15);\n",
              "      filter: drop-shadow(0px 1px 2px rgba(0, 0, 0, 0.3));\n",
              "      fill: #FFFFFF;\n",
              "    }\n",
              "  </style>\n",
              "\n",
              "      <script>\n",
              "        const buttonEl =\n",
              "          document.querySelector('#df-9ea1022c-b3d5-4918-9784-3934f4fc2137 button.colab-df-convert');\n",
              "        buttonEl.style.display =\n",
              "          google.colab.kernel.accessAllowed ? 'block' : 'none';\n",
              "\n",
              "        async function convertToInteractive(key) {\n",
              "          const element = document.querySelector('#df-9ea1022c-b3d5-4918-9784-3934f4fc2137');\n",
              "          const dataTable =\n",
              "            await google.colab.kernel.invokeFunction('convertToInteractive',\n",
              "                                                     [key], {});\n",
              "          if (!dataTable) return;\n",
              "\n",
              "          const docLinkHtml = 'Like what you see? Visit the ' +\n",
              "            '<a target=\"_blank\" href=https://colab.research.google.com/notebooks/data_table.ipynb>data table notebook</a>'\n",
              "            + ' to learn more about interactive tables.';\n",
              "          element.innerHTML = '';\n",
              "          dataTable['output_type'] = 'display_data';\n",
              "          await google.colab.output.renderOutput(dataTable, element);\n",
              "          const docLink = document.createElement('div');\n",
              "          docLink.innerHTML = docLinkHtml;\n",
              "          element.appendChild(docLink);\n",
              "        }\n",
              "      </script>\n",
              "    </div>\n",
              "  </div>\n",
              "  "
            ]
          },
          "metadata": {},
          "execution_count": 39
        }
      ]
    },
    {
      "cell_type": "code",
      "source": [
        "df2['category_id'] = df2['Product'].factorize()[0]\n",
        "category_id_df = df2[['Product', 'category_id']].drop_duplicates()"
      ],
      "metadata": {
        "id": "h5Y7WqCx4f2n"
      },
      "execution_count": null,
      "outputs": []
    },
    {
      "cell_type": "markdown",
      "source": [
        "Stop words are the words that are commonly ignored by a search engine while performing search or querying , so let's try to remove them from our mails which wont cause any error"
      ],
      "metadata": {
        "id": "3aSHxPtySrvR"
      }
    },
    {
      "cell_type": "code",
      "source": [
        "nltk.download('stopwords')\n",
        "stop=set(stopwords.words('english'))\n"
      ],
      "metadata": {
        "colab": {
          "base_uri": "https://localhost:8080/"
        },
        "id": "TslWjvT45F5S",
        "outputId": "832002f2-abb0-4613-9507-fca75daf10a1"
      },
      "execution_count": null,
      "outputs": [
        {
          "output_type": "stream",
          "name": "stdout",
          "text": [
            "[nltk_data] Downloading package stopwords to /root/nltk_data...\n",
            "[nltk_data]   Package stopwords is already up-to-date!\n"
          ]
        }
      ]
    },
    {
      "cell_type": "code",
      "source": [
        "def remove_stopwords(text):\n",
        "  filtered_words=[word.lower() for word in text.split() if word not in stop]\n",
        "  return \" \".join(filtered_words)"
      ],
      "metadata": {
        "id": "wmwpjyYj5F8a"
      },
      "execution_count": null,
      "outputs": []
    },
    {
      "cell_type": "code",
      "source": [
        "df2['Consumer_complaint']=df2['Consumer_complaint'].map(remove_stopwords)"
      ],
      "metadata": {
        "id": "RqW-s8tm5F_S"
      },
      "execution_count": null,
      "outputs": []
    },
    {
      "cell_type": "code",
      "source": [
        "df2"
      ],
      "metadata": {
        "colab": {
          "base_uri": "https://localhost:8080/",
          "height": 641
        },
        "id": "xJcq0UC67uzZ",
        "outputId": "8e696026-444b-41c5-d4e4-f7c183faec4a"
      },
      "execution_count": null,
      "outputs": [
        {
          "output_type": "execute_result",
          "data": {
            "text/plain": [
              "      Unnamed: 0                             Product  \\\n",
              "0        1885501         Credit card or prepaid card   \n",
              "1        2183466                     Debt collection   \n",
              "2         655475                     Debt collection   \n",
              "3        2527140  Credit reporting, repair, or other   \n",
              "4        1893551                     Debt collection   \n",
              "...          ...                                 ...   \n",
              "9995     1330494  Credit reporting, repair, or other   \n",
              "9996     1626685                     Debt collection   \n",
              "9997     2065636                       Consumer Loan   \n",
              "9998     1276903                     Debt collection   \n",
              "9999      893573  Credit reporting, repair, or other   \n",
              "\n",
              "                                     Consumer_complaint  category_id  \n",
              "0     received letter mail american express attempti...            0  \n",
              "1     veteran served twice xxxx xxxx xxxx. medical c...            1  \n",
              "2     portofolio recovery submitted collection repor...            1  \n",
              "3     equifax xxxx xxxx still reporting past due bal...            2  \n",
              "4     getting notification xxxx debt approximately x...            1  \n",
              "...                                                 ...          ...  \n",
              "9995  dear might concern, name \" xxxx xxxx xxxx '', ...            2  \n",
              "9996  bought car friend back xxxx title transferred ...            1  \n",
              "9997  keep receiving harassing phone calls personal ...           11  \n",
              "9998  collection acount showing erc. supposing acvou...            1  \n",
              "9999  made several attempts request deletion inaccur...            2  \n",
              "\n",
              "[10000 rows x 4 columns]"
            ],
            "text/html": [
              "\n",
              "  <div id=\"df-4517b63e-6b57-4a2a-badb-2c812613ab14\">\n",
              "    <div class=\"colab-df-container\">\n",
              "      <div>\n",
              "<style scoped>\n",
              "    .dataframe tbody tr th:only-of-type {\n",
              "        vertical-align: middle;\n",
              "    }\n",
              "\n",
              "    .dataframe tbody tr th {\n",
              "        vertical-align: top;\n",
              "    }\n",
              "\n",
              "    .dataframe thead th {\n",
              "        text-align: right;\n",
              "    }\n",
              "</style>\n",
              "<table border=\"1\" class=\"dataframe\">\n",
              "  <thead>\n",
              "    <tr style=\"text-align: right;\">\n",
              "      <th></th>\n",
              "      <th>Unnamed: 0</th>\n",
              "      <th>Product</th>\n",
              "      <th>Consumer_complaint</th>\n",
              "      <th>category_id</th>\n",
              "    </tr>\n",
              "  </thead>\n",
              "  <tbody>\n",
              "    <tr>\n",
              "      <th>0</th>\n",
              "      <td>1885501</td>\n",
              "      <td>Credit card or prepaid card</td>\n",
              "      <td>received letter mail american express attempti...</td>\n",
              "      <td>0</td>\n",
              "    </tr>\n",
              "    <tr>\n",
              "      <th>1</th>\n",
              "      <td>2183466</td>\n",
              "      <td>Debt collection</td>\n",
              "      <td>veteran served twice xxxx xxxx xxxx. medical c...</td>\n",
              "      <td>1</td>\n",
              "    </tr>\n",
              "    <tr>\n",
              "      <th>2</th>\n",
              "      <td>655475</td>\n",
              "      <td>Debt collection</td>\n",
              "      <td>portofolio recovery submitted collection repor...</td>\n",
              "      <td>1</td>\n",
              "    </tr>\n",
              "    <tr>\n",
              "      <th>3</th>\n",
              "      <td>2527140</td>\n",
              "      <td>Credit reporting, repair, or other</td>\n",
              "      <td>equifax xxxx xxxx still reporting past due bal...</td>\n",
              "      <td>2</td>\n",
              "    </tr>\n",
              "    <tr>\n",
              "      <th>4</th>\n",
              "      <td>1893551</td>\n",
              "      <td>Debt collection</td>\n",
              "      <td>getting notification xxxx debt approximately x...</td>\n",
              "      <td>1</td>\n",
              "    </tr>\n",
              "    <tr>\n",
              "      <th>...</th>\n",
              "      <td>...</td>\n",
              "      <td>...</td>\n",
              "      <td>...</td>\n",
              "      <td>...</td>\n",
              "    </tr>\n",
              "    <tr>\n",
              "      <th>9995</th>\n",
              "      <td>1330494</td>\n",
              "      <td>Credit reporting, repair, or other</td>\n",
              "      <td>dear might concern, name \" xxxx xxxx xxxx '', ...</td>\n",
              "      <td>2</td>\n",
              "    </tr>\n",
              "    <tr>\n",
              "      <th>9996</th>\n",
              "      <td>1626685</td>\n",
              "      <td>Debt collection</td>\n",
              "      <td>bought car friend back xxxx title transferred ...</td>\n",
              "      <td>1</td>\n",
              "    </tr>\n",
              "    <tr>\n",
              "      <th>9997</th>\n",
              "      <td>2065636</td>\n",
              "      <td>Consumer Loan</td>\n",
              "      <td>keep receiving harassing phone calls personal ...</td>\n",
              "      <td>11</td>\n",
              "    </tr>\n",
              "    <tr>\n",
              "      <th>9998</th>\n",
              "      <td>1276903</td>\n",
              "      <td>Debt collection</td>\n",
              "      <td>collection acount showing erc. supposing acvou...</td>\n",
              "      <td>1</td>\n",
              "    </tr>\n",
              "    <tr>\n",
              "      <th>9999</th>\n",
              "      <td>893573</td>\n",
              "      <td>Credit reporting, repair, or other</td>\n",
              "      <td>made several attempts request deletion inaccur...</td>\n",
              "      <td>2</td>\n",
              "    </tr>\n",
              "  </tbody>\n",
              "</table>\n",
              "<p>10000 rows × 4 columns</p>\n",
              "</div>\n",
              "      <button class=\"colab-df-convert\" onclick=\"convertToInteractive('df-4517b63e-6b57-4a2a-badb-2c812613ab14')\"\n",
              "              title=\"Convert this dataframe to an interactive table.\"\n",
              "              style=\"display:none;\">\n",
              "        \n",
              "  <svg xmlns=\"http://www.w3.org/2000/svg\" height=\"24px\"viewBox=\"0 0 24 24\"\n",
              "       width=\"24px\">\n",
              "    <path d=\"M0 0h24v24H0V0z\" fill=\"none\"/>\n",
              "    <path d=\"M18.56 5.44l.94 2.06.94-2.06 2.06-.94-2.06-.94-.94-2.06-.94 2.06-2.06.94zm-11 1L8.5 8.5l.94-2.06 2.06-.94-2.06-.94L8.5 2.5l-.94 2.06-2.06.94zm10 10l.94 2.06.94-2.06 2.06-.94-2.06-.94-.94-2.06-.94 2.06-2.06.94z\"/><path d=\"M17.41 7.96l-1.37-1.37c-.4-.4-.92-.59-1.43-.59-.52 0-1.04.2-1.43.59L10.3 9.45l-7.72 7.72c-.78.78-.78 2.05 0 2.83L4 21.41c.39.39.9.59 1.41.59.51 0 1.02-.2 1.41-.59l7.78-7.78 2.81-2.81c.8-.78.8-2.07 0-2.86zM5.41 20L4 18.59l7.72-7.72 1.47 1.35L5.41 20z\"/>\n",
              "  </svg>\n",
              "      </button>\n",
              "      \n",
              "  <style>\n",
              "    .colab-df-container {\n",
              "      display:flex;\n",
              "      flex-wrap:wrap;\n",
              "      gap: 12px;\n",
              "    }\n",
              "\n",
              "    .colab-df-convert {\n",
              "      background-color: #E8F0FE;\n",
              "      border: none;\n",
              "      border-radius: 50%;\n",
              "      cursor: pointer;\n",
              "      display: none;\n",
              "      fill: #1967D2;\n",
              "      height: 32px;\n",
              "      padding: 0 0 0 0;\n",
              "      width: 32px;\n",
              "    }\n",
              "\n",
              "    .colab-df-convert:hover {\n",
              "      background-color: #E2EBFA;\n",
              "      box-shadow: 0px 1px 2px rgba(60, 64, 67, 0.3), 0px 1px 3px 1px rgba(60, 64, 67, 0.15);\n",
              "      fill: #174EA6;\n",
              "    }\n",
              "\n",
              "    [theme=dark] .colab-df-convert {\n",
              "      background-color: #3B4455;\n",
              "      fill: #D2E3FC;\n",
              "    }\n",
              "\n",
              "    [theme=dark] .colab-df-convert:hover {\n",
              "      background-color: #434B5C;\n",
              "      box-shadow: 0px 1px 3px 1px rgba(0, 0, 0, 0.15);\n",
              "      filter: drop-shadow(0px 1px 2px rgba(0, 0, 0, 0.3));\n",
              "      fill: #FFFFFF;\n",
              "    }\n",
              "  </style>\n",
              "\n",
              "      <script>\n",
              "        const buttonEl =\n",
              "          document.querySelector('#df-4517b63e-6b57-4a2a-badb-2c812613ab14 button.colab-df-convert');\n",
              "        buttonEl.style.display =\n",
              "          google.colab.kernel.accessAllowed ? 'block' : 'none';\n",
              "\n",
              "        async function convertToInteractive(key) {\n",
              "          const element = document.querySelector('#df-4517b63e-6b57-4a2a-badb-2c812613ab14');\n",
              "          const dataTable =\n",
              "            await google.colab.kernel.invokeFunction('convertToInteractive',\n",
              "                                                     [key], {});\n",
              "          if (!dataTable) return;\n",
              "\n",
              "          const docLinkHtml = 'Like what you see? Visit the ' +\n",
              "            '<a target=\"_blank\" href=https://colab.research.google.com/notebooks/data_table.ipynb>data table notebook</a>'\n",
              "            + ' to learn more about interactive tables.';\n",
              "          element.innerHTML = '';\n",
              "          dataTable['output_type'] = 'display_data';\n",
              "          await google.colab.output.renderOutput(dataTable, element);\n",
              "          const docLink = document.createElement('div');\n",
              "          docLink.innerHTML = docLinkHtml;\n",
              "          element.appendChild(docLink);\n",
              "        }\n",
              "      </script>\n",
              "    </div>\n",
              "  </div>\n",
              "  "
            ]
          },
          "metadata": {},
          "execution_count": 48
        }
      ]
    },
    {
      "cell_type": "markdown",
      "source": [
        "Let's now count the number of unique words that are found in the mails , which can help us while designing our LSTM Model"
      ],
      "metadata": {
        "id": "ADrNE0lqTNjm"
      }
    },
    {
      "cell_type": "markdown",
      "source": [
        "for this we are going to use **Counter** in **collections** module"
      ],
      "metadata": {
        "id": "KcQJyQcxTcXx"
      }
    },
    {
      "cell_type": "code",
      "source": [
        "#counting the frequency\n",
        "from collections import Counter\n",
        "\n",
        "def count_words(text_col):\n",
        "  count=Counter()\n",
        "  for text in text_col.values:\n",
        "    for word in text.split():\n",
        "      count[word]+=1\n",
        "  return count\n",
        "\n",
        "counted_words=count_words(df2.Consumer_complaint)"
      ],
      "metadata": {
        "id": "hFFEN0Ad7u2y"
      },
      "execution_count": null,
      "outputs": []
    },
    {
      "cell_type": "code",
      "source": [
        "uniqueWordCount=len(counted_words)"
      ],
      "metadata": {
        "id": "qKK2bKLB7u57"
      },
      "execution_count": null,
      "outputs": []
    },
    {
      "cell_type": "markdown",
      "source": [
        "Now let's split our data into train and validation dataset"
      ],
      "metadata": {
        "id": "Q64yg6mgTxH5"
      }
    },
    {
      "cell_type": "code",
      "source": [
        "train_size=int(df2.shape[0]*0.8)"
      ],
      "metadata": {
        "id": "-FaOSJFw7L94"
      },
      "execution_count": null,
      "outputs": []
    },
    {
      "cell_type": "code",
      "source": [
        "train_data=df2[:train_size]\n",
        "validate_data=df2[train_size:]"
      ],
      "metadata": {
        "id": "MSD16hr57MAu"
      },
      "execution_count": null,
      "outputs": []
    },
    {
      "cell_type": "code",
      "source": [
        "train_sentences=train_data.Consumer_complaint.to_numpy()\n",
        "train_labels=train_data.category_id.to_numpy()\n",
        "validate_sentences=validate_data.Consumer_complaint.to_numpy()\n",
        "validate_labels=validate_data.category_id.to_numpy()"
      ],
      "metadata": {
        "id": "JRSqe_5j7MDD"
      },
      "execution_count": null,
      "outputs": []
    },
    {
      "cell_type": "markdown",
      "source": [
        "Now let's tokenize our data which is nothing but adding an ID to every word tha were found in our dataset of mails"
      ],
      "metadata": {
        "id": "QfeMvr3sT8R7"
      }
    },
    {
      "cell_type": "code",
      "source": [
        "tokenizer=tf.keras.preprocessing.text.Tokenizer(num_words=uniqueWordCount)\n",
        "tokenizer.fit_on_texts(train_sentences)\n"
      ],
      "metadata": {
        "id": "kTpN-IZP7MFp"
      },
      "execution_count": null,
      "outputs": []
    },
    {
      "cell_type": "code",
      "source": [
        "word_index=tokenizer.word_index"
      ],
      "metadata": {
        "id": "vgJpS-3o7MH_"
      },
      "execution_count": null,
      "outputs": []
    },
    {
      "cell_type": "code",
      "source": [
        "train_sequence=tokenizer.texts_to_sequences(train_sentences)\n",
        "validate_sequence=tokenizer.texts_to_sequences(validate_sentences)"
      ],
      "metadata": {
        "id": "EeT8s25z7MKV"
      },
      "execution_count": null,
      "outputs": []
    },
    {
      "cell_type": "markdown",
      "source": [
        "As all the mails might not have the same number of words , lets use the pad_sequences method to make them equal (*Note: We are using zero padding here)"
      ],
      "metadata": {
        "id": "33tXpFSstJCr"
      }
    },
    {
      "cell_type": "code",
      "source": [
        "max_length=50"
      ],
      "metadata": {
        "id": "Rsrw3kEe9Xtt"
      },
      "execution_count": null,
      "outputs": []
    },
    {
      "cell_type": "code",
      "source": [
        "train_padded=tf.keras.preprocessing.sequence.pad_sequences(train_sequence,maxlen=max_length,padding='post',truncating='post')\n",
        "validate_padded=tf.keras.preprocessing.sequence.pad_sequences(validate_sequence,maxlen=max_length,padding='post',truncating='post')"
      ],
      "metadata": {
        "id": "vKlPFuGQ9Xwk"
      },
      "execution_count": null,
      "outputs": []
    },
    {
      "cell_type": "markdown",
      "source": [
        "Now  let's model our LSTM and train it . we use 13 output layer neurons each for 1 class and a softmax activation function"
      ],
      "metadata": {
        "id": "7bwG2qv4tbCJ"
      }
    },
    {
      "cell_type": "code",
      "source": [
        "model=tf.keras.models.Sequential()\n",
        "model.add(tf.keras.layers.Embedding(uniqueWordCount,128,input_length=max_length))\n",
        "model.add(tf.keras.layers.LSTM(128,dropout=0.1))\n",
        "model.add(tf.keras.layers.Dense(13,activation='softmax'))\n",
        "model.summary()"
      ],
      "metadata": {
        "colab": {
          "base_uri": "https://localhost:8080/"
        },
        "id": "3D6b9WRK9XzJ",
        "outputId": "fbca7a01-9a70-4c8b-c3a5-7d2ca49c639f"
      },
      "execution_count": null,
      "outputs": [
        {
          "output_type": "stream",
          "name": "stdout",
          "text": [
            "Model: \"sequential_2\"\n",
            "_________________________________________________________________\n",
            " Layer (type)                Output Shape              Param #   \n",
            "=================================================================\n",
            " embedding_2 (Embedding)     (None, 50, 128)           4499328   \n",
            "                                                                 \n",
            " lstm_2 (LSTM)               (None, 128)               131584    \n",
            "                                                                 \n",
            " dense_2 (Dense)             (None, 13)                1677      \n",
            "                                                                 \n",
            "=================================================================\n",
            "Total params: 4,632,589\n",
            "Trainable params: 4,632,589\n",
            "Non-trainable params: 0\n",
            "_________________________________________________________________\n"
          ]
        }
      ]
    },
    {
      "cell_type": "code",
      "source": [
        "loss='sparse_categorical_crossentropy'\n",
        "opt=tf.keras.optimizers.Adam(lr=0.001)\n",
        "model.compile(loss=loss,optimizer=opt,metrics=['accuracy'])"
      ],
      "metadata": {
        "colab": {
          "base_uri": "https://localhost:8080/"
        },
        "id": "P_F9a7JH9X1w",
        "outputId": "2f59a9e1-b4ec-4b70-f844-cdc9ef4c6d09"
      },
      "execution_count": null,
      "outputs": [
        {
          "output_type": "stream",
          "name": "stderr",
          "text": [
            "/usr/local/lib/python3.7/dist-packages/keras/optimizer_v2/adam.py:105: UserWarning: The `lr` argument is deprecated, use `learning_rate` instead.\n",
            "  super(Adam, self).__init__(name, **kwargs)\n"
          ]
        }
      ]
    },
    {
      "cell_type": "code",
      "source": [
        "model.fit(train_padded,train_labels,epochs=20,validation_data=(validate_padded,validate_labels),verbose=1)"
      ],
      "metadata": {
        "colab": {
          "base_uri": "https://localhost:8080/"
        },
        "id": "t09Pih_EDtpm",
        "outputId": "6ac860d1-0113-402f-a509-f9d5b46b5012"
      },
      "execution_count": null,
      "outputs": [
        {
          "output_type": "stream",
          "name": "stdout",
          "text": [
            "Epoch 1/20\n",
            "250/250 [==============================] - 35s 132ms/step - loss: 1.4888 - accuracy: 0.4995 - val_loss: 1.2526 - val_accuracy: 0.5850\n",
            "Epoch 2/20\n",
            "250/250 [==============================] - 31s 123ms/step - loss: 1.0561 - accuracy: 0.6524 - val_loss: 1.0308 - val_accuracy: 0.6915\n",
            "Epoch 3/20\n",
            "250/250 [==============================] - 31s 124ms/step - loss: 0.7947 - accuracy: 0.7524 - val_loss: 1.0571 - val_accuracy: 0.7040\n",
            "Epoch 4/20\n",
            "250/250 [==============================] - 31s 124ms/step - loss: 0.6380 - accuracy: 0.8018 - val_loss: 0.9540 - val_accuracy: 0.7140\n",
            "Epoch 5/20\n",
            "250/250 [==============================] - 31s 124ms/step - loss: 0.5568 - accuracy: 0.8315 - val_loss: 0.9828 - val_accuracy: 0.7220\n",
            "Epoch 6/20\n",
            "250/250 [==============================] - 31s 125ms/step - loss: 0.4377 - accuracy: 0.8641 - val_loss: 1.0942 - val_accuracy: 0.6990\n",
            "Epoch 7/20\n",
            "250/250 [==============================] - 31s 124ms/step - loss: 0.3860 - accuracy: 0.8826 - val_loss: 1.0548 - val_accuracy: 0.7185\n",
            "Epoch 8/20\n",
            "250/250 [==============================] - 31s 124ms/step - loss: 0.3331 - accuracy: 0.9028 - val_loss: 1.1291 - val_accuracy: 0.7250\n",
            "Epoch 9/20\n",
            "250/250 [==============================] - 32s 129ms/step - loss: 0.2957 - accuracy: 0.9129 - val_loss: 1.0776 - val_accuracy: 0.7100\n",
            "Epoch 10/20\n",
            "250/250 [==============================] - 31s 124ms/step - loss: 0.2558 - accuracy: 0.9260 - val_loss: 1.0911 - val_accuracy: 0.7295\n",
            "Epoch 11/20\n",
            "250/250 [==============================] - 31s 124ms/step - loss: 0.2886 - accuracy: 0.9197 - val_loss: 1.0889 - val_accuracy: 0.7160\n",
            "Epoch 12/20\n",
            "250/250 [==============================] - 31s 124ms/step - loss: 0.2374 - accuracy: 0.9344 - val_loss: 1.1372 - val_accuracy: 0.7105\n",
            "Epoch 13/20\n",
            "250/250 [==============================] - 31s 124ms/step - loss: 0.1800 - accuracy: 0.9501 - val_loss: 1.2150 - val_accuracy: 0.7180\n",
            "Epoch 14/20\n",
            "250/250 [==============================] - 32s 129ms/step - loss: 0.1570 - accuracy: 0.9580 - val_loss: 1.2122 - val_accuracy: 0.7235\n",
            "Epoch 15/20\n",
            "250/250 [==============================] - 31s 125ms/step - loss: 0.1302 - accuracy: 0.9660 - val_loss: 1.3163 - val_accuracy: 0.7210\n",
            "Epoch 16/20\n",
            "250/250 [==============================] - 33s 130ms/step - loss: 0.1074 - accuracy: 0.9726 - val_loss: 1.2837 - val_accuracy: 0.7185\n",
            "Epoch 17/20\n",
            "250/250 [==============================] - 31s 124ms/step - loss: 0.0993 - accuracy: 0.9753 - val_loss: 1.3415 - val_accuracy: 0.7080\n",
            "Epoch 18/20\n",
            "250/250 [==============================] - 31s 124ms/step - loss: 0.0905 - accuracy: 0.9787 - val_loss: 1.3725 - val_accuracy: 0.7190\n",
            "Epoch 19/20\n",
            "250/250 [==============================] - 31s 125ms/step - loss: 0.0752 - accuracy: 0.9818 - val_loss: 1.4444 - val_accuracy: 0.7105\n",
            "Epoch 20/20\n",
            "250/250 [==============================] - 31s 126ms/step - loss: 0.0762 - accuracy: 0.9826 - val_loss: 1.4190 - val_accuracy: 0.7085\n"
          ]
        },
        {
          "output_type": "execute_result",
          "data": {
            "text/plain": [
              "<keras.callbacks.History at 0x7f5c92dbad90>"
            ]
          },
          "metadata": {},
          "execution_count": 63
        }
      ]
    },
    {
      "cell_type": "code",
      "source": [
        "predictions=model.predict(train_padded)"
      ],
      "metadata": {
        "id": "wHI_4mmCETFM"
      },
      "execution_count": null,
      "outputs": []
    },
    {
      "cell_type": "markdown",
      "source": [
        "As we can see our model has a 98% accuracy over the training set and 71% over Validation Set "
      ],
      "metadata": {
        "id": "t00NQK6ptwka"
      }
    },
    {
      "cell_type": "code",
      "source": [
        "prediction=[]\n",
        "for pre in predictions:\n",
        "  prediction.append(np.argmax(pre))"
      ],
      "metadata": {
        "id": "pOzhd4KmG4yi"
      },
      "execution_count": null,
      "outputs": []
    },
    {
      "cell_type": "code",
      "source": [
        "mismatch_count=0\n",
        "total_count=len(prediction)\n",
        "for i in range(len(prediction)):\n",
        "  if prediction[i]!=train_labels[i]:\n",
        "    mismatch_count+=1\n",
        "accuracy=((total_count-mismatch_count)/total_count)*100\n",
        "print(\"Total mails :{} \\n misclassified mails :{} \\n Accuracy of Prediction : {}\".format(total_count,mismatch_count,accuracy))"
      ],
      "metadata": {
        "colab": {
          "base_uri": "https://localhost:8080/"
        },
        "id": "95cF3jatETIy",
        "outputId": "13c24b36-9abe-4b4f-db2d-7939190b3ad3"
      },
      "execution_count": null,
      "outputs": [
        {
          "output_type": "stream",
          "name": "stdout",
          "text": [
            "Total mails :8000 \n",
            " misclassified mails :85 \n",
            " Accuracy of Prediction : 98.9375\n"
          ]
        }
      ]
    },
    {
      "cell_type": "code",
      "source": [
        ""
      ],
      "metadata": {
        "id": "X9YlbKklETL6"
      },
      "execution_count": null,
      "outputs": []
    }
  ]
}